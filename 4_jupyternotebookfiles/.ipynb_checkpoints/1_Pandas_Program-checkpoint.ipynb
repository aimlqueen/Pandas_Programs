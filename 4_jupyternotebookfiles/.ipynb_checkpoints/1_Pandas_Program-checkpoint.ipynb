{
 "cells": [
  {
   "cell_type": "code",
   "execution_count": 1,
   "id": "33dcd17b-26e8-4605-ac4b-7114a1eef6c4",
   "metadata": {},
   "outputs": [
    {
     "name": "stdout",
     "output_type": "stream",
     "text": [
      "Requirement already satisfied: pandas in c:\\users\\drnim\\anaconda3\\lib\\site-packages (2.2.2)\n",
      "Requirement already satisfied: numpy>=1.26.0 in c:\\users\\drnim\\anaconda3\\lib\\site-packages (from pandas) (1.26.4)\n",
      "Requirement already satisfied: python-dateutil>=2.8.2 in c:\\users\\drnim\\anaconda3\\lib\\site-packages (from pandas) (2.9.0.post0)\n",
      "Requirement already satisfied: pytz>=2020.1 in c:\\users\\drnim\\anaconda3\\lib\\site-packages (from pandas) (2024.1)\n",
      "Requirement already satisfied: tzdata>=2022.7 in c:\\users\\drnim\\anaconda3\\lib\\site-packages (from pandas) (2023.3)\n",
      "Requirement already satisfied: six>=1.5 in c:\\users\\drnim\\anaconda3\\lib\\site-packages (from python-dateutil>=2.8.2->pandas) (1.16.0)\n",
      "Note: you may need to restart the kernel to use updated packages.\n"
     ]
    }
   ],
   "source": [
    "pip install pandas"
   ]
  },
  {
   "cell_type": "code",
   "execution_count": 2,
   "id": "daa7e8e2-d761-4f47-84cd-b39124d3aba2",
   "metadata": {},
   "outputs": [
    {
     "name": "stdout",
     "output_type": "stream",
     "text": [
      "2.2.2\n"
     ]
    }
   ],
   "source": [
    "import pandas as pd\n",
    "print(pd.__version__)"
   ]
  },
  {
   "cell_type": "code",
   "execution_count": 5,
   "id": "64111121-5c1e-4ae4-810b-092c194dceaf",
   "metadata": {},
   "outputs": [
    {
     "name": "stdout",
     "output_type": "stream",
     "text": [
      "0    1\n",
      "1    2\n",
      "2    3\n",
      "dtype: int32\n"
     ]
    }
   ],
   "source": [
    "import numpy as np\n",
    "import pandas as pd\n",
    "a=np.array([1,2,3])\n",
    "b=pd.Series(a)\n",
    "print(b)"
   ]
  },
  {
   "cell_type": "code",
   "execution_count": 11,
   "id": "85eed58b-dea5-4c54-83f5-44cdc7826ba9",
   "metadata": {},
   "outputs": [
    {
     "name": "stdout",
     "output_type": "stream",
     "text": [
      "0    1\n",
      "1    2\n",
      "2    3\n",
      "3    4\n",
      "4    5\n",
      "5    6\n",
      "dtype: int64\n"
     ]
    }
   ],
   "source": [
    "# List to Series\n",
    "a=[1,2,3,4,5,6]\n",
    "b=pd.Series(a)\n",
    "print(b)"
   ]
  },
  {
   "cell_type": "code",
   "execution_count": 15,
   "id": "e35c044e-90cd-4be8-9664-bd7f557ae58d",
   "metadata": {},
   "outputs": [
    {
     "name": "stdout",
     "output_type": "stream",
     "text": [
      "1\n",
      "4\n"
     ]
    }
   ],
   "source": [
    "# indexing\n",
    "print(b[0])\n",
    "print(b[3])"
   ]
  },
  {
   "cell_type": "code",
   "execution_count": 21,
   "id": "90b1627e-836c-4424-bc8b-de29f530e84a",
   "metadata": {},
   "outputs": [
    {
     "name": "stdout",
     "output_type": "stream",
     "text": [
      "a    1\n",
      "b    2\n",
      "c    3\n",
      "d    4\n",
      "dtype: int64\n"
     ]
    }
   ],
   "source": [
    "a=pd.Series([1,2,3,4],index=['a','b','c','d'])\n",
    "print(a)"
   ]
  },
  {
   "cell_type": "code",
   "execution_count": 24,
   "id": "b7bd2d6f-add8-4170-9115-bdefefc48fbb",
   "metadata": {},
   "outputs": [
    {
     "name": "stdout",
     "output_type": "stream",
     "text": [
      "day1     400\n",
      "day2     234\n",
      "day3    2341\n",
      "dtype: int64\n"
     ]
    }
   ],
   "source": [
    "# dictionary to series\n",
    "a={\"day1\":400,\"day2\":234,\"day3\":2341}\n",
    "b=pd.Series(a)\n",
    "print(b)"
   ]
  },
  {
   "cell_type": "code",
   "execution_count": 26,
   "id": "d1b8d95d-451c-4f68-89dd-50204f58828f",
   "metadata": {},
   "outputs": [
    {
     "name": "stdout",
     "output_type": "stream",
     "text": [
      "day1     400\n",
      "day2     234\n",
      "day3    2341\n",
      "dtype: int64\n"
     ]
    }
   ],
   "source": [
    "a=pd.Series({\"day1\":400,\"day2\":234,\"day3\":2341})\n",
    "print(a)"
   ]
  },
  {
   "cell_type": "code",
   "execution_count": 28,
   "id": "b95026ba-48d6-438e-b44c-6d6bd705c4f9",
   "metadata": {},
   "outputs": [
    {
     "name": "stdout",
     "output_type": "stream",
     "text": [
      "   rollno  age\n",
      "0       1   25\n",
      "1       2   35\n",
      "2       3   24\n",
      "3       4   33\n",
      "4       5   21\n"
     ]
    }
   ],
   "source": [
    "# DataFrame\n",
    "data={\"rollno\":[1,2,3,4,5],\"age\":[25,35,24,33,21]}\n",
    "df=pd.DataFrame(data)\n",
    "print(df)"
   ]
  },
  {
   "cell_type": "code",
   "execution_count": 30,
   "id": "58fe5a86-f608-4623-9a05-0869df81871c",
   "metadata": {},
   "outputs": [
    {
     "name": "stdout",
     "output_type": "stream",
     "text": [
      "rollno     1\n",
      "age       25\n",
      "Name: 0, dtype: int64\n"
     ]
    }
   ],
   "source": [
    "print(df.loc[0])"
   ]
  },
  {
   "cell_type": "code",
   "execution_count": 34,
   "id": "fbc767be-579f-40a0-90cf-923526fa6c88",
   "metadata": {},
   "outputs": [
    {
     "name": "stdout",
     "output_type": "stream",
     "text": [
      "   rollno  age\n",
      "0       1   25\n",
      "1       2   35\n"
     ]
    }
   ],
   "source": [
    "print(df.loc[[0, 1]])"
   ]
  },
  {
   "cell_type": "code",
   "execution_count": 37,
   "id": "beb9ebbe-1938-4e64-bf9c-ace369abe7c0",
   "metadata": {},
   "outputs": [
    {
     "name": "stdout",
     "output_type": "stream",
     "text": [
      "   rollno  age\n",
      "A       1   25\n",
      "B       2   35\n",
      "C       3   24\n",
      "D       4   33\n",
      "E       5   21\n"
     ]
    }
   ],
   "source": [
    "data={\"rollno\":[1,2,3,4,5],\"age\":[25,35,24,33,21]}\n",
    "df=pd.DataFrame(data,index=['A','B','C','D','E'])\n",
    "print(df)"
   ]
  },
  {
   "cell_type": "code",
   "execution_count": 41,
   "id": "c3874809-c511-4dea-b372-d2a04b44829e",
   "metadata": {},
   "outputs": [
    {
     "name": "stdout",
     "output_type": "stream",
     "text": [
      "rollno     1\n",
      "age       25\n",
      "Name: A, dtype: int64\n"
     ]
    }
   ],
   "source": [
    "print(df.loc['A'])"
   ]
  },
  {
   "cell_type": "code",
   "execution_count": 45,
   "id": "3daf6025-9d80-4766-8592-d8623176ddce",
   "metadata": {},
   "outputs": [
    {
     "name": "stdout",
     "output_type": "stream",
     "text": [
      "       company                  job     degree  salary_more_then_100k\n",
      "0       google      sales executive  bachelors                      0\n",
      "1       google      sales executive    masters                      0\n",
      "2       google     business manager  bachelors                      1\n",
      "3       google     business manager    masters                      1\n",
      "4       google  computer programmer  bachelors                      0\n",
      "5       google  computer programmer    masters                      1\n",
      "6   abc pharma      sales executive    masters                      0\n",
      "7   abc pharma  computer programmer  bachelors                      0\n",
      "8   abc pharma     business manager  bachelors                      0\n",
      "9   abc pharma     business manager    masters                      1\n",
      "10    facebook      sales executive  bachelors                      1\n",
      "11    facebook      sales executive    masters                      1\n",
      "12    facebook     business manager  bachelors                      1\n",
      "13    facebook     business manager    masters                      1\n",
      "14    facebook  computer programmer  bachelors                      1\n",
      "15    facebook  computer programmer    masters                      1\n"
     ]
    }
   ],
   "source": [
    "# read csv file\n",
    "a=pd.read_csv('dataset/salaries.csv')\n",
    "print(a)"
   ]
  },
  {
   "cell_type": "code",
   "execution_count": 56,
   "id": "340fabab-6c31-4d0c-9b4d-03a1753aae7d",
   "metadata": {},
   "outputs": [
    {
     "name": "stdout",
     "output_type": "stream",
     "text": [
      "  abc pharma     business manager    masters  1\n",
      "0   facebook      sales executive  bachelors  1\n",
      "1   facebook      sales executive    masters  1\n",
      "2   facebook     business manager  bachelors  1\n",
      "3   facebook     business manager    masters  1\n",
      "4   facebook  computer programmer  bachelors  1\n",
      "5   facebook  computer programmer    masters  1\n"
     ]
    }
   ],
   "source": [
    "# skip the rows\n",
    "a=pd.read_csv('dataset/salaries.csv',skiprows=10)\n",
    "print(a)"
   ]
  },
  {
   "cell_type": "code",
   "execution_count": 70,
   "id": "9c6c8e1d-b873-4f59-b065-b8ede48c7bd8",
   "metadata": {},
   "outputs": [
    {
     "data": {
      "text/html": [
       "<div>\n",
       "<style scoped>\n",
       "    .dataframe tbody tr th:only-of-type {\n",
       "        vertical-align: middle;\n",
       "    }\n",
       "\n",
       "    .dataframe tbody tr th {\n",
       "        vertical-align: top;\n",
       "    }\n",
       "\n",
       "    .dataframe thead th {\n",
       "        text-align: right;\n",
       "    }\n",
       "</style>\n",
       "<table border=\"1\" class=\"dataframe\">\n",
       "  <thead>\n",
       "    <tr style=\"text-align: right;\">\n",
       "      <th></th>\n",
       "      <th>company</th>\n",
       "      <th>job</th>\n",
       "      <th>degree</th>\n",
       "      <th>salary_more_then_100k</th>\n",
       "    </tr>\n",
       "  </thead>\n",
       "  <tbody>\n",
       "    <tr>\n",
       "      <th>0</th>\n",
       "      <td>google</td>\n",
       "      <td>sales executive</td>\n",
       "      <td>bachelors</td>\n",
       "      <td>0</td>\n",
       "    </tr>\n",
       "    <tr>\n",
       "      <th>1</th>\n",
       "      <td>google</td>\n",
       "      <td>sales executive</td>\n",
       "      <td>masters</td>\n",
       "      <td>0</td>\n",
       "    </tr>\n",
       "    <tr>\n",
       "      <th>2</th>\n",
       "      <td>google</td>\n",
       "      <td>business manager</td>\n",
       "      <td>bachelors</td>\n",
       "      <td>1</td>\n",
       "    </tr>\n",
       "    <tr>\n",
       "      <th>3</th>\n",
       "      <td>google</td>\n",
       "      <td>business manager</td>\n",
       "      <td>masters</td>\n",
       "      <td>1</td>\n",
       "    </tr>\n",
       "    <tr>\n",
       "      <th>4</th>\n",
       "      <td>google</td>\n",
       "      <td>computer programmer</td>\n",
       "      <td>bachelors</td>\n",
       "      <td>0</td>\n",
       "    </tr>\n",
       "    <tr>\n",
       "      <th>5</th>\n",
       "      <td>google</td>\n",
       "      <td>computer programmer</td>\n",
       "      <td>masters</td>\n",
       "      <td>1</td>\n",
       "    </tr>\n",
       "    <tr>\n",
       "      <th>6</th>\n",
       "      <td>abc pharma</td>\n",
       "      <td>sales executive</td>\n",
       "      <td>masters</td>\n",
       "      <td>0</td>\n",
       "    </tr>\n",
       "    <tr>\n",
       "      <th>7</th>\n",
       "      <td>abc pharma</td>\n",
       "      <td>computer programmer</td>\n",
       "      <td>bachelors</td>\n",
       "      <td>0</td>\n",
       "    </tr>\n",
       "    <tr>\n",
       "      <th>8</th>\n",
       "      <td>abc pharma</td>\n",
       "      <td>business manager</td>\n",
       "      <td>bachelors</td>\n",
       "      <td>0</td>\n",
       "    </tr>\n",
       "    <tr>\n",
       "      <th>9</th>\n",
       "      <td>abc pharma</td>\n",
       "      <td>business manager</td>\n",
       "      <td>masters</td>\n",
       "      <td>1</td>\n",
       "    </tr>\n",
       "    <tr>\n",
       "      <th>10</th>\n",
       "      <td>facebook</td>\n",
       "      <td>sales executive</td>\n",
       "      <td>bachelors</td>\n",
       "      <td>1</td>\n",
       "    </tr>\n",
       "    <tr>\n",
       "      <th>11</th>\n",
       "      <td>facebook</td>\n",
       "      <td>sales executive</td>\n",
       "      <td>masters</td>\n",
       "      <td>1</td>\n",
       "    </tr>\n",
       "    <tr>\n",
       "      <th>12</th>\n",
       "      <td>facebook</td>\n",
       "      <td>business manager</td>\n",
       "      <td>bachelors</td>\n",
       "      <td>1</td>\n",
       "    </tr>\n",
       "    <tr>\n",
       "      <th>13</th>\n",
       "      <td>facebook</td>\n",
       "      <td>business manager</td>\n",
       "      <td>masters</td>\n",
       "      <td>1</td>\n",
       "    </tr>\n",
       "    <tr>\n",
       "      <th>14</th>\n",
       "      <td>facebook</td>\n",
       "      <td>computer programmer</td>\n",
       "      <td>bachelors</td>\n",
       "      <td>1</td>\n",
       "    </tr>\n",
       "    <tr>\n",
       "      <th>15</th>\n",
       "      <td>facebook</td>\n",
       "      <td>computer programmer</td>\n",
       "      <td>masters</td>\n",
       "      <td>1</td>\n",
       "    </tr>\n",
       "  </tbody>\n",
       "</table>\n",
       "</div>"
      ],
      "text/plain": [
       "       company                  job     degree  salary_more_then_100k\n",
       "0       google      sales executive  bachelors                      0\n",
       "1       google      sales executive    masters                      0\n",
       "2       google     business manager  bachelors                      1\n",
       "3       google     business manager    masters                      1\n",
       "4       google  computer programmer  bachelors                      0\n",
       "5       google  computer programmer    masters                      1\n",
       "6   abc pharma      sales executive    masters                      0\n",
       "7   abc pharma  computer programmer  bachelors                      0\n",
       "8   abc pharma     business manager  bachelors                      0\n",
       "9   abc pharma     business manager    masters                      1\n",
       "10    facebook      sales executive  bachelors                      1\n",
       "11    facebook      sales executive    masters                      1\n",
       "12    facebook     business manager  bachelors                      1\n",
       "13    facebook     business manager    masters                      1\n",
       "14    facebook  computer programmer  bachelors                      1\n",
       "15    facebook  computer programmer    masters                      1"
      ]
     },
     "execution_count": 70,
     "metadata": {},
     "output_type": "execute_result"
    }
   ],
   "source": [
    "# to show the header\n",
    "a=pd.read_csv('dataset/salaries.csv',header=0)\n",
    "a"
   ]
  },
  {
   "cell_type": "code",
   "execution_count": 82,
   "id": "ae22ac4d-7421-43fb-97cf-ba5f5b204310",
   "metadata": {},
   "outputs": [
    {
     "data": {
      "text/html": [
       "<div>\n",
       "<style scoped>\n",
       "    .dataframe tbody tr th:only-of-type {\n",
       "        vertical-align: middle;\n",
       "    }\n",
       "\n",
       "    .dataframe tbody tr th {\n",
       "        vertical-align: top;\n",
       "    }\n",
       "\n",
       "    .dataframe thead th {\n",
       "        text-align: right;\n",
       "    }\n",
       "</style>\n",
       "<table border=\"1\" class=\"dataframe\">\n",
       "  <thead>\n",
       "    <tr style=\"text-align: right;\">\n",
       "      <th></th>\n",
       "      <th>company_name</th>\n",
       "      <th>Designation</th>\n",
       "      <th>Education</th>\n",
       "      <th>Income</th>\n",
       "    </tr>\n",
       "  </thead>\n",
       "  <tbody>\n",
       "    <tr>\n",
       "      <th>0</th>\n",
       "      <td>company</td>\n",
       "      <td>job</td>\n",
       "      <td>degree</td>\n",
       "      <td>salary_more_then_100k</td>\n",
       "    </tr>\n",
       "    <tr>\n",
       "      <th>1</th>\n",
       "      <td>google</td>\n",
       "      <td>sales executive</td>\n",
       "      <td>bachelors</td>\n",
       "      <td>0</td>\n",
       "    </tr>\n",
       "    <tr>\n",
       "      <th>2</th>\n",
       "      <td>google</td>\n",
       "      <td>sales executive</td>\n",
       "      <td>masters</td>\n",
       "      <td>0</td>\n",
       "    </tr>\n",
       "    <tr>\n",
       "      <th>3</th>\n",
       "      <td>google</td>\n",
       "      <td>business manager</td>\n",
       "      <td>bachelors</td>\n",
       "      <td>1</td>\n",
       "    </tr>\n",
       "    <tr>\n",
       "      <th>4</th>\n",
       "      <td>google</td>\n",
       "      <td>business manager</td>\n",
       "      <td>masters</td>\n",
       "      <td>1</td>\n",
       "    </tr>\n",
       "    <tr>\n",
       "      <th>5</th>\n",
       "      <td>google</td>\n",
       "      <td>computer programmer</td>\n",
       "      <td>bachelors</td>\n",
       "      <td>0</td>\n",
       "    </tr>\n",
       "    <tr>\n",
       "      <th>6</th>\n",
       "      <td>google</td>\n",
       "      <td>computer programmer</td>\n",
       "      <td>masters</td>\n",
       "      <td>1</td>\n",
       "    </tr>\n",
       "    <tr>\n",
       "      <th>7</th>\n",
       "      <td>abc pharma</td>\n",
       "      <td>sales executive</td>\n",
       "      <td>masters</td>\n",
       "      <td>0</td>\n",
       "    </tr>\n",
       "    <tr>\n",
       "      <th>8</th>\n",
       "      <td>abc pharma</td>\n",
       "      <td>computer programmer</td>\n",
       "      <td>bachelors</td>\n",
       "      <td>0</td>\n",
       "    </tr>\n",
       "    <tr>\n",
       "      <th>9</th>\n",
       "      <td>abc pharma</td>\n",
       "      <td>business manager</td>\n",
       "      <td>bachelors</td>\n",
       "      <td>0</td>\n",
       "    </tr>\n",
       "    <tr>\n",
       "      <th>10</th>\n",
       "      <td>abc pharma</td>\n",
       "      <td>business manager</td>\n",
       "      <td>masters</td>\n",
       "      <td>1</td>\n",
       "    </tr>\n",
       "    <tr>\n",
       "      <th>11</th>\n",
       "      <td>facebook</td>\n",
       "      <td>sales executive</td>\n",
       "      <td>bachelors</td>\n",
       "      <td>1</td>\n",
       "    </tr>\n",
       "    <tr>\n",
       "      <th>12</th>\n",
       "      <td>facebook</td>\n",
       "      <td>sales executive</td>\n",
       "      <td>masters</td>\n",
       "      <td>1</td>\n",
       "    </tr>\n",
       "    <tr>\n",
       "      <th>13</th>\n",
       "      <td>facebook</td>\n",
       "      <td>business manager</td>\n",
       "      <td>bachelors</td>\n",
       "      <td>1</td>\n",
       "    </tr>\n",
       "    <tr>\n",
       "      <th>14</th>\n",
       "      <td>facebook</td>\n",
       "      <td>business manager</td>\n",
       "      <td>masters</td>\n",
       "      <td>1</td>\n",
       "    </tr>\n",
       "    <tr>\n",
       "      <th>15</th>\n",
       "      <td>facebook</td>\n",
       "      <td>computer programmer</td>\n",
       "      <td>bachelors</td>\n",
       "      <td>1</td>\n",
       "    </tr>\n",
       "    <tr>\n",
       "      <th>16</th>\n",
       "      <td>facebook</td>\n",
       "      <td>computer programmer</td>\n",
       "      <td>masters</td>\n",
       "      <td>1</td>\n",
       "    </tr>\n",
       "  </tbody>\n",
       "</table>\n",
       "</div>"
      ],
      "text/plain": [
       "   company_name          Designation  Education                 Income\n",
       "0       company                  job     degree  salary_more_then_100k\n",
       "1        google      sales executive  bachelors                      0\n",
       "2        google      sales executive    masters                      0\n",
       "3        google     business manager  bachelors                      1\n",
       "4        google     business manager    masters                      1\n",
       "5        google  computer programmer  bachelors                      0\n",
       "6        google  computer programmer    masters                      1\n",
       "7    abc pharma      sales executive    masters                      0\n",
       "8    abc pharma  computer programmer  bachelors                      0\n",
       "9    abc pharma     business manager  bachelors                      0\n",
       "10   abc pharma     business manager    masters                      1\n",
       "11     facebook      sales executive  bachelors                      1\n",
       "12     facebook      sales executive    masters                      1\n",
       "13     facebook     business manager  bachelors                      1\n",
       "14     facebook     business manager    masters                      1\n",
       "15     facebook  computer programmer  bachelors                      1\n",
       "16     facebook  computer programmer    masters                      1"
      ]
     },
     "execution_count": 82,
     "metadata": {},
     "output_type": "execute_result"
    }
   ],
   "source": [
    "# Load the CSV file with custom headers\n",
    "a=pd.read_csv('dataset/salaries.csv',header=None,names=['company_name','Designation','Education','Income'])\n",
    "a"
   ]
  },
  {
   "cell_type": "code",
   "execution_count": 94,
   "id": "835b3c28-fb4f-4cfd-9738-fb2ee41f2603",
   "metadata": {},
   "outputs": [
    {
     "data": {
      "text/html": [
       "<div>\n",
       "<style scoped>\n",
       "    .dataframe tbody tr th:only-of-type {\n",
       "        vertical-align: middle;\n",
       "    }\n",
       "\n",
       "    .dataframe tbody tr th {\n",
       "        vertical-align: top;\n",
       "    }\n",
       "\n",
       "    .dataframe thead th {\n",
       "        text-align: right;\n",
       "    }\n",
       "</style>\n",
       "<table border=\"1\" class=\"dataframe\">\n",
       "  <thead>\n",
       "    <tr style=\"text-align: right;\">\n",
       "      <th></th>\n",
       "      <th></th>\n",
       "      <th></th>\n",
       "      <th>Income</th>\n",
       "    </tr>\n",
       "  </thead>\n",
       "  <tbody>\n",
       "    <tr>\n",
       "      <th>company</th>\n",
       "      <th>job</th>\n",
       "      <th>degree</th>\n",
       "      <td>salary_more_then_100k</td>\n",
       "    </tr>\n",
       "    <tr>\n",
       "      <th rowspan=\"6\" valign=\"top\">google</th>\n",
       "      <th rowspan=\"2\" valign=\"top\">sales executive</th>\n",
       "      <th>bachelors</th>\n",
       "      <td>0</td>\n",
       "    </tr>\n",
       "    <tr>\n",
       "      <th>masters</th>\n",
       "      <td>0</td>\n",
       "    </tr>\n",
       "    <tr>\n",
       "      <th rowspan=\"2\" valign=\"top\">business manager</th>\n",
       "      <th>bachelors</th>\n",
       "      <td>1</td>\n",
       "    </tr>\n",
       "    <tr>\n",
       "      <th>masters</th>\n",
       "      <td>1</td>\n",
       "    </tr>\n",
       "    <tr>\n",
       "      <th rowspan=\"2\" valign=\"top\">computer programmer</th>\n",
       "      <th>bachelors</th>\n",
       "      <td>0</td>\n",
       "    </tr>\n",
       "    <tr>\n",
       "      <th>masters</th>\n",
       "      <td>1</td>\n",
       "    </tr>\n",
       "    <tr>\n",
       "      <th rowspan=\"4\" valign=\"top\">abc pharma</th>\n",
       "      <th>sales executive</th>\n",
       "      <th>masters</th>\n",
       "      <td>0</td>\n",
       "    </tr>\n",
       "    <tr>\n",
       "      <th>computer programmer</th>\n",
       "      <th>bachelors</th>\n",
       "      <td>0</td>\n",
       "    </tr>\n",
       "    <tr>\n",
       "      <th rowspan=\"2\" valign=\"top\">business manager</th>\n",
       "      <th>bachelors</th>\n",
       "      <td>0</td>\n",
       "    </tr>\n",
       "    <tr>\n",
       "      <th>masters</th>\n",
       "      <td>1</td>\n",
       "    </tr>\n",
       "    <tr>\n",
       "      <th rowspan=\"6\" valign=\"top\">facebook</th>\n",
       "      <th rowspan=\"2\" valign=\"top\">sales executive</th>\n",
       "      <th>bachelors</th>\n",
       "      <td>1</td>\n",
       "    </tr>\n",
       "    <tr>\n",
       "      <th>masters</th>\n",
       "      <td>1</td>\n",
       "    </tr>\n",
       "    <tr>\n",
       "      <th rowspan=\"2\" valign=\"top\">business manager</th>\n",
       "      <th>bachelors</th>\n",
       "      <td>1</td>\n",
       "    </tr>\n",
       "    <tr>\n",
       "      <th>masters</th>\n",
       "      <td>1</td>\n",
       "    </tr>\n",
       "    <tr>\n",
       "      <th rowspan=\"2\" valign=\"top\">computer programmer</th>\n",
       "      <th>bachelors</th>\n",
       "      <td>1</td>\n",
       "    </tr>\n",
       "    <tr>\n",
       "      <th>masters</th>\n",
       "      <td>1</td>\n",
       "    </tr>\n",
       "  </tbody>\n",
       "</table>\n",
       "</div>"
      ],
      "text/plain": [
       "                                                         Income\n",
       "company    job                 degree     salary_more_then_100k\n",
       "google     sales executive     bachelors                      0\n",
       "                               masters                        0\n",
       "           business manager    bachelors                      1\n",
       "                               masters                        1\n",
       "           computer programmer bachelors                      0\n",
       "                               masters                        1\n",
       "abc pharma sales executive     masters                        0\n",
       "           computer programmer bachelors                      0\n",
       "           business manager    bachelors                      0\n",
       "                               masters                        1\n",
       "facebook   sales executive     bachelors                      1\n",
       "                               masters                        1\n",
       "           business manager    bachelors                      1\n",
       "                               masters                        1\n",
       "           computer programmer bachelors                      1\n",
       "                               masters                        1"
      ]
     },
     "execution_count": 94,
     "metadata": {},
     "output_type": "execute_result"
    }
   ],
   "source": [
    "# Load the CSV file with custom headers\n",
    "a=pd.read_csv('dataset/salaries.csv',header=None,names=['Income'])\n",
    "a"
   ]
  },
  {
   "cell_type": "code",
   "execution_count": 115,
   "id": "597724a2-2ae6-440a-a725-6c28327156a7",
   "metadata": {},
   "outputs": [
    {
     "data": {
      "text/html": [
       "<div>\n",
       "<style scoped>\n",
       "    .dataframe tbody tr th:only-of-type {\n",
       "        vertical-align: middle;\n",
       "    }\n",
       "\n",
       "    .dataframe tbody tr th {\n",
       "        vertical-align: top;\n",
       "    }\n",
       "\n",
       "    .dataframe thead th {\n",
       "        text-align: right;\n",
       "    }\n",
       "</style>\n",
       "<table border=\"1\" class=\"dataframe\">\n",
       "  <thead>\n",
       "    <tr style=\"text-align: right;\">\n",
       "      <th></th>\n",
       "      <th>company</th>\n",
       "      <th>job</th>\n",
       "      <th>degree</th>\n",
       "      <th>salary_more_then_100k</th>\n",
       "    </tr>\n",
       "  </thead>\n",
       "  <tbody>\n",
       "    <tr>\n",
       "      <th>0</th>\n",
       "      <td>google</td>\n",
       "      <td>sales executive</td>\n",
       "      <td>bachelors</td>\n",
       "      <td>0</td>\n",
       "    </tr>\n",
       "    <tr>\n",
       "      <th>1</th>\n",
       "      <td>google</td>\n",
       "      <td>sales executive</td>\n",
       "      <td>masters</td>\n",
       "      <td>0</td>\n",
       "    </tr>\n",
       "    <tr>\n",
       "      <th>2</th>\n",
       "      <td>google</td>\n",
       "      <td>business manager</td>\n",
       "      <td>bachelors</td>\n",
       "      <td>1</td>\n",
       "    </tr>\n",
       "  </tbody>\n",
       "</table>\n",
       "</div>"
      ],
      "text/plain": [
       "  company               job     degree  salary_more_then_100k\n",
       "0  google   sales executive  bachelors                      0\n",
       "1  google   sales executive    masters                      0\n",
       "2  google  business manager  bachelors                      1"
      ]
     },
     "execution_count": 115,
     "metadata": {},
     "output_type": "execute_result"
    }
   ],
   "source": [
    "#Load first 3 rows\n",
    "a=pd.read_csv('dataset/salaries.csv',nrows=3)\n",
    "a"
   ]
  },
  {
   "cell_type": "code",
   "execution_count": 121,
   "id": "40efb044-a887-4b52-8b75-5a078d5df956",
   "metadata": {},
   "outputs": [],
   "source": [
    "# write data into a file\n",
    "a=pd.read_csv('dataset/salaries.csv')\n",
    "a.to_csv(r'dataset/test.csv',index=False)"
   ]
  },
  {
   "cell_type": "code",
   "execution_count": 123,
   "id": "0b5835b4-7deb-4709-8581-cf49ceb876be",
   "metadata": {},
   "outputs": [],
   "source": [
    "# write particular columns into a file\n",
    "a=pd.read_csv('dataset/salaries.csv')\n",
    "a.to_csv(r'dataset/test1.csv',index=False,columns=['company','job'])"
   ]
  },
  {
   "cell_type": "code",
   "execution_count": 82,
   "id": "bfb293b9-d290-4620-b3e8-ea11cf8b6a14",
   "metadata": {},
   "outputs": [
    {
     "name": "stdout",
     "output_type": "stream",
     "text": [
      "           day     city  temperature  windspeed          event\n",
      "0        42736  newyork           32          6           Rain\n",
      "1        42826  newyork           36          7          Sunny\n",
      "2        42856  newyork           28         12           Snow\n",
      "3        42887  newyork           33          7          Sunny\n",
      "4        42917   mumbai           90          5          Sunny\n",
      "5        42948   mumbai           85         12            Fog\n",
      "6        42979   mumbai           87         15            Fog\n",
      "7        43009   mumbai           92          5           Rain\n",
      "8        43040    paris           45         20          Sunny\n",
      "9        43070    paris           50         13         Cloudy\n",
      "10  01-13-2017    paris           54          8  not available\n",
      "11  01-14-2017    paris           42         10         Cloudy\n"
     ]
    }
   ],
   "source": [
    "# read from excel\n",
    "import pandas as pd\n",
    "df=pd.read_excel(r'dataset/demo.xlsx','Sheet1')\n",
    "print(df)"
   ]
  },
  {
   "cell_type": "code",
   "execution_count": 114,
   "id": "8738bea0-924b-40c3-a7b7-817a8d6253e4",
   "metadata": {},
   "outputs": [
    {
     "name": "stdout",
     "output_type": "stream",
     "text": [
      "           day     city  temperature  windspeed   event\n",
      "0        42736  newyork           32          6    Rain\n",
      "1        42826  newyork           36          7   Sunny\n",
      "2        42856  newyork           28         12    Snow\n",
      "3        42887  newyork           33          7   Sunny\n",
      "4        42917   mumbai           90          5   Sunny\n",
      "5        42948   mumbai           85         12     Fog\n",
      "6        42979   mumbai           87         15     Fog\n",
      "7        43009   mumbai           92          5    Rain\n",
      "8        43040    paris           45         20   Sunny\n",
      "9        43070    paris           50         13  Cloudy\n",
      "10  01-13-2017    paris           54          8     NaN\n",
      "11  01-14-2017    paris           42         10  Cloudy\n"
     ]
    }
   ],
   "source": [
    "# replace value with NaN\n",
    "import pandas as pd\n",
    "df=pd.read_excel(r'dataset/demo.xlsx',sheet_name='Sheet1',na_values=['n.a','not available'])\n",
    "print(df)"
   ]
  },
  {
   "cell_type": "code",
   "execution_count": 116,
   "id": "27df5ede-efab-467e-9b4f-471657309401",
   "metadata": {},
   "outputs": [
    {
     "name": "stdout",
     "output_type": "stream",
     "text": [
      "                              a          b              c\n",
      "day        city     temperature  windspeed          event\n",
      "42736      newyork           32          6           Rain\n",
      "42826      newyork           36          7          Sunny\n",
      "42856      newyork           28         12           Snow\n",
      "42887      newyork           33          7          Sunny\n",
      "42917      mumbai            90          5          Sunny\n",
      "42948      mumbai            85         12            Fog\n",
      "42979      mumbai            87         15            Fog\n",
      "43009      mumbai            92          5           Rain\n",
      "43040      paris             45         20          Sunny\n",
      "43070      paris             50         13         Cloudy\n",
      "01-13-2017 paris             54          8  not available\n",
      "01-14-2017 paris             42         10         Cloudy\n"
     ]
    }
   ],
   "source": [
    "# gave new header\n",
    "import pandas as pd\n",
    "df=pd.read_excel(r'dataset/demo.xlsx','Sheet1',header=None,names=['a','b','c'])\n",
    "print(df)"
   ]
  },
  {
   "cell_type": "code",
   "execution_count": 100,
   "id": "a1abb09c-6146-4fcf-8c68-8c1c6ae81858",
   "metadata": {},
   "outputs": [
    {
     "name": "stdout",
     "output_type": "stream",
     "text": [
      "           day     city  temperature  windspeed          event\n",
      "0        42736  newyork           32          6            NaN\n",
      "1        42826  newyork           36          7          Sunny\n",
      "2        42856  newyork           28         12           Snow\n",
      "3        42887  newyork           33          7          Sunny\n",
      "4        42917   mumbai           90          5          Sunny\n",
      "5        42948   mumbai           85         12            Fog\n",
      "6        42979   mumbai           87         15            Fog\n",
      "7        43009   mumbai           92          5            NaN\n",
      "8        43040    paris           45         20          Sunny\n",
      "9        43070    paris           50         13         Cloudy\n",
      "10  01-13-2017    paris           54          8  not available\n",
      "11  01-14-2017    paris           42         10         Cloudy\n"
     ]
    }
   ],
   "source": [
    "# change values to null value(Nan)\n",
    "import pandas as pd\n",
    "df=pd.read_excel(r'dataset/demo.xlsx',sheet_name='Sheet1',na_values=['Rain'])\n",
    "print(df)"
   ]
  },
  {
   "cell_type": "code",
   "execution_count": 90,
   "id": "260ee757-743c-40bc-bb0b-c9670d33068c",
   "metadata": {},
   "outputs": [],
   "source": [
    "# copy/write to excel\n",
    "a=df.to_excel(r'dataset/demo1.xlsx')\n",
    "a"
   ]
  },
  {
   "cell_type": "code",
   "execution_count": 11,
   "id": "9175a8df-54da-46f5-b54a-f705ea8ac83e",
   "metadata": {},
   "outputs": [
    {
     "name": "stdout",
     "output_type": "stream",
     "text": [
      "             0        1            2          3              4\n",
      "0          day     city  temperature  windspeed          event\n",
      "1        42736  newyork           32          6           Rain\n",
      "2        42826  newyork           36          7          Sunny\n",
      "3        42856  newyork           28         12           Snow\n",
      "4        42887  newyork           33          7          Sunny\n",
      "5        42917   mumbai           90          5          Sunny\n",
      "6        42948   mumbai           85         12            Fog\n",
      "7        42979   mumbai           87         15            Fog\n",
      "8        43009   mumbai           92          5           Rain\n",
      "9        43040    paris           45         20          Sunny\n",
      "10       43070    paris           50         13         Cloudy\n",
      "11  01-13-2017    paris           54          8  not available\n",
      "12  01-14-2017    paris           42         10         Cloudy\n"
     ]
    }
   ],
   "source": [
    "# read from excel\n",
    "import pandas as pd\n",
    "df=pd.read_excel(r'dataset/demo.xlsx','Sheet1',header=None)\n",
    "print(df)"
   ]
  },
  {
   "cell_type": "code",
   "execution_count": 49,
   "id": "585fd76a-4d1e-4962-b6ba-7cc732c05415",
   "metadata": {},
   "outputs": [
    {
     "name": "stdout",
     "output_type": "stream",
     "text": [
      "Empty DataFrame\n",
      "Columns: [hello all]\n",
      "Index: []\n"
     ]
    }
   ],
   "source": [
    "import pandas as pd\n",
    "df=pd.read_csv('dataset/test.txt')\n",
    "print(df)"
   ]
  },
  {
   "cell_type": "code",
   "execution_count": 51,
   "id": "a1a36f07-bfba-4abc-8c4f-db27a406d05b",
   "metadata": {},
   "outputs": [
    {
     "data": {
      "text/html": [
       "<div>\n",
       "<style scoped>\n",
       "    .dataframe tbody tr th:only-of-type {\n",
       "        vertical-align: middle;\n",
       "    }\n",
       "\n",
       "    .dataframe tbody tr th {\n",
       "        vertical-align: top;\n",
       "    }\n",
       "\n",
       "    .dataframe thead th {\n",
       "        text-align: right;\n",
       "    }\n",
       "</style>\n",
       "<table border=\"1\" class=\"dataframe\">\n",
       "  <thead>\n",
       "    <tr style=\"text-align: right;\">\n",
       "      <th></th>\n",
       "      <th>Unnamed: 0.1</th>\n",
       "      <th>Unnamed: 0</th>\n",
       "      <th>tickers</th>\n",
       "      <th>eps</th>\n",
       "      <th>revenue</th>\n",
       "      <th>price</th>\n",
       "      <th>people</th>\n",
       "    </tr>\n",
       "  </thead>\n",
       "  <tbody>\n",
       "    <tr>\n",
       "      <th>0</th>\n",
       "      <td>0</td>\n",
       "      <td>0</td>\n",
       "      <td>GOOGL</td>\n",
       "      <td>27.82</td>\n",
       "      <td>87</td>\n",
       "      <td>845</td>\n",
       "      <td>ben</td>\n",
       "    </tr>\n",
       "    <tr>\n",
       "      <th>1</th>\n",
       "      <td>1</td>\n",
       "      <td>1</td>\n",
       "      <td>WMT</td>\n",
       "      <td>4.61</td>\n",
       "      <td>484</td>\n",
       "      <td>65</td>\n",
       "      <td>n.a.</td>\n",
       "    </tr>\n",
       "    <tr>\n",
       "      <th>2</th>\n",
       "      <td>2</td>\n",
       "      <td>2</td>\n",
       "      <td>MSFT</td>\n",
       "      <td>-1</td>\n",
       "      <td>85</td>\n",
       "      <td>64</td>\n",
       "      <td>bill gates</td>\n",
       "    </tr>\n",
       "    <tr>\n",
       "      <th>3</th>\n",
       "      <td>3</td>\n",
       "      <td>3</td>\n",
       "      <td>RIL</td>\n",
       "      <td>not available</td>\n",
       "      <td>50</td>\n",
       "      <td>1023</td>\n",
       "      <td>mukesh ambani</td>\n",
       "    </tr>\n",
       "    <tr>\n",
       "      <th>4</th>\n",
       "      <td>4</td>\n",
       "      <td>4</td>\n",
       "      <td>TATA</td>\n",
       "      <td>-1</td>\n",
       "      <td>-1</td>\n",
       "      <td>n.a.</td>\n",
       "      <td>ratan tata</td>\n",
       "    </tr>\n",
       "  </tbody>\n",
       "</table>\n",
       "</div>"
      ],
      "text/plain": [
       "   Unnamed: 0.1  Unnamed: 0 tickers            eps  revenue price  \\\n",
       "0             0           0   GOOGL          27.82       87   845   \n",
       "1             1           1     WMT           4.61      484    65   \n",
       "2             2           2    MSFT             -1       85    64   \n",
       "3             3           3     RIL  not available       50  1023   \n",
       "4             4           4    TATA             -1       -1  n.a.   \n",
       "\n",
       "          people  \n",
       "0            ben  \n",
       "1           n.a.  \n",
       "2     bill gates  \n",
       "3  mukesh ambani  \n",
       "4     ratan tata  "
      ]
     },
     "execution_count": 51,
     "metadata": {},
     "output_type": "execute_result"
    }
   ],
   "source": [
    "# converters method\n",
    "def converted_people(name):\n",
    "    if name=='larry page':\n",
    "        return 'ben'\n",
    "    else:\n",
    "        return name\n",
    "df1=pd.read_excel('dataset/stock_data.xlsx',converters={'people':converted_people})\n",
    "df1"
   ]
  },
  {
   "cell_type": "code",
   "execution_count": 45,
   "id": "5efb45bd-5ec0-4b5a-8ac9-5b3777aa3503",
   "metadata": {},
   "outputs": [],
   "source": [
    "# save to excel\n",
    "df1.to_excel('dataset/converted_data.xlsx', index=False)"
   ]
  },
  {
   "cell_type": "code",
   "execution_count": 53,
   "id": "aa6d09a1-21dc-4d30-8021-db643e08f23b",
   "metadata": {},
   "outputs": [],
   "source": [
    "# excel writer: used to right into single excel file & multiple sheets\n",
    "with pd.ExcelWriter('dataset/stock_data_write_excel.xlsx') as wr:\n",
    "    df.to_excel(wr,sheet_name='Sheet1',index=False)\n",
    "    df1.to_excel(wr,sheet_name='Sheet2',index=False)"
   ]
  },
  {
   "cell_type": "code",
   "execution_count": null,
   "id": "01eee0c5-9175-4197-8b08-1f0029aef3a2",
   "metadata": {},
   "outputs": [],
   "source": []
  }
 ],
 "metadata": {
  "kernelspec": {
   "display_name": "Python 3 (ipykernel)",
   "language": "python",
   "name": "python3"
  },
  "language_info": {
   "codemirror_mode": {
    "name": "ipython",
    "version": 3
   },
   "file_extension": ".py",
   "mimetype": "text/x-python",
   "name": "python",
   "nbconvert_exporter": "python",
   "pygments_lexer": "ipython3",
   "version": "3.12.4"
  }
 },
 "nbformat": 4,
 "nbformat_minor": 5
}
